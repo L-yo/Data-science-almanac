{
 "cells": [
  {
   "cell_type": "code",
   "execution_count": 1,
   "id": "44ce32c7",
   "metadata": {},
   "outputs": [],
   "source": [
    "%matplotlib inline"
   ]
  },
  {
   "cell_type": "code",
   "execution_count": 35,
   "id": "7801b4dc",
   "metadata": {},
   "outputs": [
    {
     "name": "stdout",
     "output_type": "stream",
     "text": [
      "Slusarski\n"
     ]
    }
   ],
   "source": [
    "from __future__ import unicode_literals, print_function, division\n",
    "from io import open\n",
    "import glob\n",
    "import os\n",
    "\n",
    "def findFiles(path): return glob.glob(path)\n",
    "\n",
    "# print(findFiles('data/names/*.txt'))\n",
    "\n",
    "import unicodedata\n",
    "import string\n",
    "\n",
    "all_letters = string.ascii_letters + \" .,;-\"\n",
    "n_letters = len(all_letters)\n",
    "\n",
    "# Turn a Unicode string to plain ASCII, thanks to https://stackoverflow.com/a/518232/2809427\n",
    "def unicodeToAscii(s):\n",
    "    return ''.join(\n",
    "        c for c in unicodedata.normalize('NFD', s)\n",
    "        if unicodedata.category(c) != 'Mn'\n",
    "        and c in all_letters\n",
    "    )\n",
    "\n",
    "print(unicodeToAscii('Ślusàrski'))\n",
    "\n",
    "# Build the category_lines dictionary, a list of names per language\n",
    "category_lines = {}\n",
    "all_categories = []\n",
    "\n",
    "import pandas\n",
    "df = pandas.read_csv('data/name_gender_dataset.csv')\n",
    "data = df[[\"Gender\", \"Name\"]]\n",
    "homme = data.loc[df['Gender'] == 'M']\n",
    "femme = data.loc[df['Gender'] == 'F']\n",
    "\n",
    "conc = [homme, femme]\n",
    "data = pandas.concat(conc)\n",
    "\n",
    "all_categories = ['M', 'F']\n",
    "category_lines = {}\n",
    "category_lines[\"M\"] = homme[\"Name\"].to_numpy()\n",
    "category_lines[\"F\"] = femme[\"Name\"].to_numpy()\n",
    "\n",
    "category_lines\n",
    "\n",
    "    \n",
    "\n",
    "n_categories = len(all_categories)"
   ]
  },
  {
   "cell_type": "code",
   "execution_count": 36,
   "id": "f510be88",
   "metadata": {},
   "outputs": [
    {
     "data": {
      "text/plain": [
       "['M', 'F']"
      ]
     },
     "execution_count": 36,
     "metadata": {},
     "output_type": "execute_result"
    }
   ],
   "source": [
    "all_categories"
   ]
  },
  {
   "cell_type": "code",
   "execution_count": 37,
   "id": "1520f361",
   "metadata": {},
   "outputs": [
    {
     "name": "stdout",
     "output_type": "stream",
     "text": [
      "tensor([[0., 0., 0., 0., 0., 0., 0., 0., 0., 0., 0., 0., 0., 0., 0., 0., 0., 0.,\n",
      "         0., 0., 0., 0., 0., 0., 0., 0., 0., 0., 0., 0., 0., 0., 0., 0., 0., 1.,\n",
      "         0., 0., 0., 0., 0., 0., 0., 0., 0., 0., 0., 0., 0., 0., 0., 0., 0., 0.,\n",
      "         0., 0., 0.]])\n",
      "torch.Size([5, 1, 57])\n"
     ]
    }
   ],
   "source": [
    "import torch\n",
    "\n",
    "# Find letter index from all_letters, e.g. \"a\" = 0\n",
    "def letterToIndex(letter):\n",
    "    return all_letters.find(letter)\n",
    "\n",
    "# Just for demonstration, turn a letter into a <1 x n_letters> Tensor\n",
    "def letterToTensor(letter):\n",
    "    tensor = torch.zeros(1, n_letters)\n",
    "    tensor[0][letterToIndex(letter)] = 1\n",
    "    return tensor\n",
    "\n",
    "# Turn a line into a <line_length x 1 x n_letters>,\n",
    "# or an array of one-hot letter vectors\n",
    "def lineToTensor(line):\n",
    "    tensor = torch.zeros(len(line), 1, n_letters)\n",
    "    for li, letter in enumerate(line):\n",
    "        tensor[li][0][letterToIndex(letter)] = 1\n",
    "    return tensor\n",
    "\n",
    "print(letterToTensor('J'))\n",
    "\n",
    "print(lineToTensor('Jones').size())"
   ]
  },
  {
   "cell_type": "code",
   "execution_count": 38,
   "id": "fdb4500b",
   "metadata": {},
   "outputs": [],
   "source": [
    "import torch.nn as nn\n",
    "\n",
    "class RNN(nn.Module):\n",
    "    def __init__(self, input_size, hidden_size, output_size):\n",
    "        super(RNN, self).__init__()\n",
    "\n",
    "        self.hidden_size = hidden_size\n",
    "\n",
    "        self.i2h = nn.Linear(input_size + hidden_size, hidden_size)\n",
    "        self.i2o = nn.Linear(input_size + hidden_size, output_size)\n",
    "        self.softmax = nn.LogSoftmax(dim=1)\n",
    "\n",
    "    def forward(self, input, hidden):\n",
    "        combined = torch.cat((input, hidden), 1)\n",
    "        hidden = self.i2h(combined)\n",
    "        output = self.i2o(combined)\n",
    "        output = self.softmax(output)\n",
    "        return output, hidden\n",
    "\n",
    "    def initHidden(self):\n",
    "        return torch.zeros(1, self.hidden_size)\n",
    "\n",
    "n_hidden = 128\n",
    "rnn = RNN(n_letters, n_hidden, n_categories)"
   ]
  },
  {
   "cell_type": "code",
   "execution_count": 45,
   "id": "1feb51f3",
   "metadata": {},
   "outputs": [
    {
     "name": "stdout",
     "output_type": "stream",
     "text": [
      "tensor([[-0.7327, -0.6551]], grad_fn=<LogSoftmaxBackward0>)\n",
      "tensor([[-0.6788, -0.7077]], grad_fn=<LogSoftmaxBackward0>)\n"
     ]
    }
   ],
   "source": [
    "input = letterToTensor('A')\n",
    "hidden = torch.zeros(1, n_hidden)\n",
    "\n",
    "output, next_hidden = rnn(input, hidden)\n",
    "print(output)\n",
    "\n",
    "input = lineToTensor('Fredo')\n",
    "hidden = torch.zeros(1, n_hidden)\n",
    "\n",
    "output, next_hidden = rnn(input[0], hidden)\n",
    "print(output)\n",
    "\n"
   ]
  },
  {
   "cell_type": "code",
   "execution_count": 46,
   "id": "21fb3a5f",
   "metadata": {},
   "outputs": [
    {
     "name": "stdout",
     "output_type": "stream",
     "text": [
      "('M', 0)\n"
     ]
    }
   ],
   "source": [
    "def categoryFromOutput(output):\n",
    "    top_n, top_i = output.topk(1)\n",
    "    category_i = top_i[0].item()\n",
    "    return all_categories[category_i], category_i\n",
    "\n",
    "print(categoryFromOutput(output))"
   ]
  },
  {
   "cell_type": "code",
   "execution_count": 48,
   "id": "4aa398be",
   "metadata": {},
   "outputs": [
    {
     "name": "stdout",
     "output_type": "stream",
     "text": [
      "category = F / name = Auriel\n",
      "category = M / name = James-David\n",
      "category = M / name = Keghan\n",
      "category = F / name = Adelayne\n",
      "category = M / name = Anisjon\n",
      "category = F / name = Rodrigo\n",
      "category = F / name = Sheilla\n",
      "category = F / name = Tamaika\n",
      "category = F / name = Reilly\n",
      "category = M / name = O'Che\n"
     ]
    }
   ],
   "source": [
    "import random\n",
    "\n",
    "def randomChoice(l):\n",
    "    return l[random.randint(0, len(l) - 1)]\n",
    "\n",
    "def randomTrainingExample():\n",
    "    category = randomChoice(all_categories)\n",
    "    line = randomChoice(category_lines[category])\n",
    "    category_tensor = torch.tensor([all_categories.index(category)], dtype=torch.long)\n",
    "    line_tensor = lineToTensor(line)\n",
    "    return category, line, category_tensor, line_tensor\n",
    "\n",
    "for i in range(10):\n",
    "    category, line, category_tensor, line_tensor = randomTrainingExample()\n",
    "    print('category =', category, '/ name =', line)"
   ]
  },
  {
   "cell_type": "code",
   "execution_count": 49,
   "id": "5c312f15",
   "metadata": {},
   "outputs": [],
   "source": [
    "criterion = nn.NLLLoss()"
   ]
  },
  {
   "cell_type": "code",
   "execution_count": 52,
   "id": "e5fdde4e",
   "metadata": {},
   "outputs": [],
   "source": [
    "learning_rate = 0.01 # If you set this too high, it might explode. If too low, it might not learn\n",
    "\n",
    "def train(category_tensor, line_tensor):\n",
    "    hidden = rnn.initHidden()\n",
    "\n",
    "    rnn.zero_grad()\n",
    "\n",
    "    for i in range(line_tensor.size()[0]):\n",
    "        output, hidden = rnn(line_tensor[i], hidden)\n",
    "\n",
    "    loss = criterion(output, category_tensor)\n",
    "    loss.backward()\n",
    "\n",
    "    # Add parameters' gradients to their values, multiplied by learning rate\n",
    "    for p in rnn.parameters():\n",
    "        p.data.add_(p.grad.data, alpha=-(learning_rate*0.99))\n",
    "\n",
    "    return output, loss.item()"
   ]
  },
  {
   "cell_type": "code",
   "execution_count": 53,
   "id": "6f4b3ac4",
   "metadata": {},
   "outputs": [
    {
     "name": "stderr",
     "output_type": "stream",
     "text": [
      "/home/lyo/miniconda3/envs/dicklearn/lib/python3.9/site-packages/torch/autograd/__init__.py:154: UserWarning: CUDA initialization: Unexpected error from cudaGetDeviceCount(). Did you run some cuda functions before calling NumCudaDevices() that might have already set an error? Error 803: system has unsupported display driver / cuda driver combination (Triggered internally at  /opt/conda/conda-bld/pytorch_1639180549130/work/c10/cuda/CUDAFunctions.cpp:112.)\n",
      "  Variable._execution_engine.run_backward(\n"
     ]
    },
    {
     "name": "stdout",
     "output_type": "stream",
     "text": [
      "5000 1% (0m 5s) 0.2772 Yeudiel / M ✓\n",
      "10000 3% (0m 10s) 0.4961 Marinah / F ✓\n",
      "15000 5% (0m 15s) 0.5287 Shontae-Tori / F ✓\n",
      "20000 6% (0m 20s) 0.5749 Malkeet / M ✓\n",
      "25000 8% (0m 25s) 0.3264 Jasiyah / F ✓\n",
      "30000 10% (0m 31s) 0.1250 Yyork / M ✓\n",
      "35000 11% (0m 36s) 0.6529 Rozmeri / F ✓\n",
      "40000 13% (0m 41s) 0.0275 Melina / F ✓\n",
      "45000 15% (0m 46s) 0.1304 Kameka / F ✓\n",
      "50000 16% (0m 51s) 0.2689 Cheville / F ✓\n",
      "55000 18% (0m 56s) 0.3158 Lyckan / M ✓\n",
      "60000 20% (1m 1s) 0.3390 Mister / M ✓\n",
      "65000 21% (1m 6s) 0.6562 Shadric / M ✓\n",
      "70000 23% (1m 11s) 0.8272 Jaii / F ✗ (M)\n",
      "75000 25% (1m 16s) 0.0814 Dezhaun / M ✓\n",
      "80000 26% (1m 21s) 0.1949 Teata-Mae / F ✓\n",
      "85000 28% (1m 26s) 0.5938 Azareel / M ✓\n",
      "90000 30% (1m 32s) 3.4457 Brayden-Shayne / F ✗ (M)\n",
      "95000 31% (1m 37s) 0.3171 Tushara / F ✓\n",
      "100000 33% (1m 42s) 0.4164 Ericamarie / F ✓\n",
      "105000 35% (1m 47s) 0.2973 Jigarjeet / M ✓\n",
      "110000 36% (1m 52s) 0.0978 Had / M ✓\n",
      "115000 38% (1m 57s) 0.1799 Windson / M ✓\n",
      "120000 40% (2m 2s) 0.3513 Aujoni / F ✓\n",
      "125000 41% (2m 7s) 0.1228 Tarjan / M ✓\n",
      "130000 43% (2m 12s) 0.0297 Mykayla / F ✓\n",
      "135000 45% (2m 17s) 3.2264 Maurya / F ✗ (M)\n",
      "140000 46% (2m 22s) 0.1016 Kywon / M ✓\n",
      "145000 48% (2m 28s) 0.1287 Treyvond / M ✓\n",
      "150000 50% (2m 33s) 0.1391 Vashawn / M ✓\n",
      "155000 51% (2m 39s) 2.5938 Chayne / F ✗ (M)\n",
      "160000 53% (2m 44s) 0.2145 Payshence / F ✓\n",
      "165000 55% (2m 49s) 0.0820 Crystalla / F ✓\n",
      "170000 56% (2m 55s) 0.1063 Ayasha / F ✓\n",
      "175000 58% (3m 0s) 0.5898 Zeilen / M ✓\n",
      "180000 60% (3m 6s) 2.4149 Francesca / F ✗ (M)\n",
      "185000 61% (3m 11s) 2.0504 Damber / M ✗ (F)\n",
      "190000 63% (3m 17s) 0.4638 Eymi / F ✓\n",
      "195000 65% (3m 22s) 0.9057 Xiomary / M ✗ (F)\n",
      "200000 66% (3m 28s) 1.5889 Kahlais / M ✗ (F)\n",
      "205000 68% (3m 33s) 0.1648 Trevar / M ✓\n",
      "210000 70% (3m 39s) 0.2372 Yanabah / F ✓\n",
      "215000 71% (3m 44s) 0.2024 Muadz / M ✓\n",
      "220000 73% (3m 49s) 0.0565 Suniya / F ✓\n",
      "225000 75% (3m 55s) 0.2524 Joshlyn / M ✓\n",
      "230000 76% (4m 0s) 0.0893 Theonia / F ✓\n",
      "235000 78% (4m 5s) 0.0862 Dewilla / F ✓\n",
      "240000 80% (4m 10s) 0.1152 Paavan / M ✓\n",
      "245000 81% (4m 15s) 1.2967 Renel / M ✗ (F)\n",
      "250000 83% (4m 20s) 0.6072 Cloree / F ✓\n",
      "255000 85% (4m 26s) 0.0902 Kumar / M ✓\n",
      "260000 86% (4m 31s) 0.3121 Jerrel / M ✓\n",
      "265000 88% (4m 36s) 1.9674 Elliotte / F ✗ (M)\n",
      "270000 90% (4m 41s) 0.1593 Pul / M ✓\n",
      "275000 91% (4m 46s) 1.2811 Katsumi / M ✗ (F)\n",
      "280000 93% (4m 52s) 0.0373 Martyna / F ✓\n",
      "285000 95% (4m 56s) 1.0247 Kinzy / M ✗ (F)\n",
      "290000 96% (5m 2s) 0.0895 Kennika / F ✓\n",
      "295000 98% (5m 7s) 0.1354 Chandrashekhar / M ✓\n",
      "300000 100% (5m 12s) 1.7241 Michell / M ✗ (F)\n"
     ]
    }
   ],
   "source": [
    "import time\n",
    "import math\n",
    "\n",
    "n_iters = 300000\n",
    "print_every = 5000\n",
    "plot_every = 1000\n",
    "\n",
    "\n",
    "\n",
    "# Keep track of losses for plotting\n",
    "current_loss = 0\n",
    "all_losses = []\n",
    "\n",
    "def timeSince(since):\n",
    "    now = time.time()\n",
    "    s = now - since\n",
    "    m = math.floor(s / 60)\n",
    "    s -= m * 60\n",
    "    return '%dm %ds' % (m, s)\n",
    "\n",
    "start = time.time()\n",
    "\n",
    "for iter in range(1, n_iters + 1):\n",
    "    category, line, category_tensor, line_tensor = randomTrainingExample()\n",
    "    output, loss = train(category_tensor, line_tensor)\n",
    "    current_loss += loss\n",
    "\n",
    "    # Print iter number, loss, name and guess\n",
    "    if iter % print_every == 0:\n",
    "        guess, guess_i = categoryFromOutput(output)\n",
    "        correct = '✓' if guess == category else '✗ (%s)' % category\n",
    "        print('%d %d%% (%s) %.4f %s / %s %s' % (iter, iter / n_iters * 100, timeSince(start), loss, line, guess, correct))\n",
    "\n",
    "    # Add current loss avg to list of losses\n",
    "    if iter % plot_every == 0:\n",
    "        all_losses.append(current_loss / plot_every)\n",
    "        current_loss = 0"
   ]
  },
  {
   "cell_type": "code",
   "execution_count": 54,
   "id": "8f388268",
   "metadata": {},
   "outputs": [
    {
     "data": {
      "text/plain": [
       "[<matplotlib.lines.Line2D at 0x7f6fb4675190>]"
      ]
     },
     "execution_count": 54,
     "metadata": {},
     "output_type": "execute_result"
    },
    {
     "data": {
      "image/png": "[encoded data removed]",
      "text/plain": [
       "<Figure size 432x288 with 1 Axes>"
      ]
     },
     "metadata": {
      "needs_background": "light"
     },
     "output_type": "display_data"
    }
   ],
   "source": [
    "import matplotlib.pyplot as plt\n",
    "import matplotlib.ticker as ticker\n",
    "\n",
    "plt.figure()\n",
    "plt.plot(all_losses)"
   ]
  },
  {
   "cell_type": "code",
   "execution_count": 55,
   "id": "7c810d66",
   "metadata": {},
   "outputs": [
    {
     "name": "stderr",
     "output_type": "stream",
     "text": [
      "/tmp/ipykernel_80382/3585656379.py:33: UserWarning: FixedFormatter should only be used together with FixedLocator\n",
      "  ax.set_xticklabels([''] + all_categories, rotation=90)\n",
      "/tmp/ipykernel_80382/3585656379.py:34: UserWarning: FixedFormatter should only be used together with FixedLocator\n",
      "  ax.set_yticklabels([''] + all_categories)\n"
     ]
    },
    {
     "data": {
      "image/png": "[encoded data removed]",
      "text/plain": [
       "<Figure size 432x288 with 2 Axes>"
      ]
     },
     "metadata": {
      "needs_background": "light"
     },
     "output_type": "display_data"
    }
   ],
   "source": [
    "# Keep track of correct guesses in a confusion matrix\n",
    "confusion = torch.zeros(n_categories, n_categories)\n",
    "n_confusion = 10000\n",
    "\n",
    "# Just return an output given a line\n",
    "def evaluate(line_tensor):\n",
    "    hidden = rnn.initHidden()\n",
    "\n",
    "    for i in range(line_tensor.size()[0]):\n",
    "        output, hidden = rnn(line_tensor[i], hidden)\n",
    "\n",
    "    return output\n",
    "\n",
    "# Go through a bunch of examples and record which are correctly guessed\n",
    "for i in range(n_confusion):\n",
    "    category, line, category_tensor, line_tensor = randomTrainingExample()\n",
    "    output = evaluate(line_tensor)\n",
    "    guess, guess_i = categoryFromOutput(output)\n",
    "    category_i = all_categories.index(category)\n",
    "    confusion[category_i][guess_i] += 1\n",
    "\n",
    "# Normalize by dividing every row by its sum\n",
    "for i in range(n_categories):\n",
    "    confusion[i] = confusion[i] / confusion[i].sum()\n",
    "\n",
    "# Set up plot\n",
    "fig = plt.figure()\n",
    "ax = fig.add_subplot(111)\n",
    "cax = ax.matshow(confusion.numpy())\n",
    "fig.colorbar(cax)\n",
    "\n",
    "# Set up axes\n",
    "ax.set_xticklabels([''] + all_categories, rotation=90)\n",
    "ax.set_yticklabels([''] + all_categories)\n",
    "\n",
    "# Force label at every tick\n",
    "ax.xaxis.set_major_locator(ticker.MultipleLocator(1))\n",
    "ax.yaxis.set_major_locator(ticker.MultipleLocator(1))\n",
    "\n",
    "# sphinx_gallery_thumbnail_number = 2\n",
    "plt.show()"
   ]
  },
  {
   "cell_type": "code",
   "execution_count": 57,
   "id": "363a034c",
   "metadata": {},
   "outputs": [
    {
     "name": "stdout",
     "output_type": "stream",
     "text": [
      "\n",
      "> Eliott\n",
      "(-0.36) M\n",
      "\n",
      "> Baptiste\n",
      "(-0.65) M\n",
      "\n",
      "> Manon\n",
      "(-0.14) M\n",
      "\n",
      "> Jules\n",
      "(-0.10) M\n",
      "\n",
      "> Clara\n",
      "(-0.24) F\n",
      "\n",
      "> Sami\n",
      "(-0.66) M\n",
      "\n",
      "> Hugo\n",
      "(-0.04) M\n"
     ]
    }
   ],
   "source": [
    "def predict(input_line, n_predictions=1):\n",
    "    print('\\n> %s' % input_line)\n",
    "    with torch.no_grad():\n",
    "        output = evaluate(lineToTensor(input_line))\n",
    "\n",
    "        # Get top N categories\n",
    "        topv, topi = output.topk(n_predictions, 1, True)\n",
    "        predictions = []\n",
    "\n",
    "        for i in range(n_predictions):\n",
    "            value = topv[0][i].item()\n",
    "            category_index = topi[0][i].item()\n",
    "            print('(%.2f) %s' % (value, all_categories[category_index]))\n",
    "            predictions.append([value, all_categories[category_index]])\n",
    "\n",
    "predict('Eliott')\n",
    "predict('Baptiste')\n",
    "predict('Manon')\n",
    "predict('Jules')\n",
    "predict('Clara')\n",
    "predict('Sami')\n",
    "predict('Hugo')"
   ]
  },
  {
   "cell_type": "code",
   "execution_count": null,
   "id": "e1294317",
   "metadata": {},
   "outputs": [],
   "source": []
  }
 ],
 "metadata": {
  "kernelspec": {
   "display_name": "Python 3 (ipykernel)",
   "language": "python",
   "name": "python3"
  },
  "language_info": {
   "codemirror_mode": {
    "name": "ipython",
    "version": 3
   },
   "file_extension": ".py",
   "mimetype": "text/x-python",
   "name": "python",
   "nbconvert_exporter": "python",
   "pygments_lexer": "ipython3",
   "version": "3.9.7"
  }
 },
 "nbformat": 4,
 "nbformat_minor": 5
}
